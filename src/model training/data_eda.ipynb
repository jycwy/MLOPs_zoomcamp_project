{
 "cells": [
  {
   "cell_type": "markdown",
   "metadata": {},
   "source": [
    "# Exploratory Data Analysis"
   ]
  },
  {
   "cell_type": "markdown",
   "metadata": {},
   "source": [
    "## 1. Setup"
   ]
  },
  {
   "cell_type": "code",
   "execution_count": 15,
   "metadata": {},
   "outputs": [],
   "source": [
    "import pandas as pd\n",
    "import numpy as np\n",
    "import pathlib\n",
    "import matplotlib.pyplot as plt\n",
    "\n",
    "DATA_DIR = pathlib.Path(\"../../data/cell2cell\")"
   ]
  },
  {
   "cell_type": "markdown",
   "metadata": {},
   "source": [
    "## 2. Download and load the data"
   ]
  },
  {
   "cell_type": "code",
   "execution_count": 6,
   "metadata": {},
   "outputs": [
    {
     "name": "stdout",
     "output_type": "stream",
     "text": [
      "Downloading from https://www.kaggle.com/api/v1/datasets/download/jpacse/datasets-for-churn-telecom?dataset_version_number=2...\n"
     ]
    },
    {
     "name": "stderr",
     "output_type": "stream",
     "text": [
      "100%|███████████████████████████████| 3.92M/3.92M [00:00<00:00, 7.65MB/s]"
     ]
    },
    {
     "name": "stdout",
     "output_type": "stream",
     "text": [
      "Extracting files...\n"
     ]
    },
    {
     "name": "stderr",
     "output_type": "stream",
     "text": [
      "\n"
     ]
    },
    {
     "name": "stdout",
     "output_type": "stream",
     "text": [
      "Path to dataset files: /Users/wenyechen/.cache/kagglehub/datasets/jpacse/datasets-for-churn-telecom/versions/2\n"
     ]
    }
   ],
   "source": [
    "import kagglehub\n",
    "# Download latest version\n",
    "path = kagglehub.dataset_download(\"jpacse/datasets-for-churn-telecom\")\n",
    "print(\"Path to dataset files:\", path)"
   ]
  },
  {
   "cell_type": "code",
   "execution_count": 16,
   "metadata": {},
   "outputs": [],
   "source": [
    "train_df = pd.read_csv(DATA_DIR / 'cell2celltrain.csv')\n",
    "test_df=pd.read_csv(DATA_DIR / 'cell2cellholdout.csv')"
   ]
  },
  {
   "cell_type": "code",
   "execution_count": 17,
   "metadata": {},
   "outputs": [
    {
     "name": "stdout",
     "output_type": "stream",
     "text": [
      "shape is: (51047, 58)\n"
     ]
    },
    {
     "data": {
      "text/html": [
       "<div>\n",
       "<style scoped>\n",
       "    .dataframe tbody tr th:only-of-type {\n",
       "        vertical-align: middle;\n",
       "    }\n",
       "\n",
       "    .dataframe tbody tr th {\n",
       "        vertical-align: top;\n",
       "    }\n",
       "\n",
       "    .dataframe thead th {\n",
       "        text-align: right;\n",
       "    }\n",
       "</style>\n",
       "<table border=\"1\" class=\"dataframe\">\n",
       "  <thead>\n",
       "    <tr style=\"text-align: right;\">\n",
       "      <th></th>\n",
       "      <th>CustomerID</th>\n",
       "      <th>Churn</th>\n",
       "      <th>MonthlyRevenue</th>\n",
       "      <th>MonthlyMinutes</th>\n",
       "      <th>TotalRecurringCharge</th>\n",
       "      <th>DirectorAssistedCalls</th>\n",
       "      <th>OverageMinutes</th>\n",
       "      <th>RoamingCalls</th>\n",
       "      <th>PercChangeMinutes</th>\n",
       "      <th>PercChangeRevenues</th>\n",
       "      <th>...</th>\n",
       "      <th>ReferralsMadeBySubscriber</th>\n",
       "      <th>IncomeGroup</th>\n",
       "      <th>OwnsMotorcycle</th>\n",
       "      <th>AdjustmentsToCreditRating</th>\n",
       "      <th>HandsetPrice</th>\n",
       "      <th>MadeCallToRetentionTeam</th>\n",
       "      <th>CreditRating</th>\n",
       "      <th>PrizmCode</th>\n",
       "      <th>Occupation</th>\n",
       "      <th>MaritalStatus</th>\n",
       "    </tr>\n",
       "  </thead>\n",
       "  <tbody>\n",
       "    <tr>\n",
       "      <th>0</th>\n",
       "      <td>3000002</td>\n",
       "      <td>Yes</td>\n",
       "      <td>24.00</td>\n",
       "      <td>219.0</td>\n",
       "      <td>22.0</td>\n",
       "      <td>0.25</td>\n",
       "      <td>0.0</td>\n",
       "      <td>0.0</td>\n",
       "      <td>-157.0</td>\n",
       "      <td>-19.0</td>\n",
       "      <td>...</td>\n",
       "      <td>0</td>\n",
       "      <td>4</td>\n",
       "      <td>No</td>\n",
       "      <td>0</td>\n",
       "      <td>30</td>\n",
       "      <td>Yes</td>\n",
       "      <td>1-Highest</td>\n",
       "      <td>Suburban</td>\n",
       "      <td>Professional</td>\n",
       "      <td>No</td>\n",
       "    </tr>\n",
       "    <tr>\n",
       "      <th>1</th>\n",
       "      <td>3000010</td>\n",
       "      <td>Yes</td>\n",
       "      <td>16.99</td>\n",
       "      <td>10.0</td>\n",
       "      <td>17.0</td>\n",
       "      <td>0.00</td>\n",
       "      <td>0.0</td>\n",
       "      <td>0.0</td>\n",
       "      <td>-4.0</td>\n",
       "      <td>0.0</td>\n",
       "      <td>...</td>\n",
       "      <td>0</td>\n",
       "      <td>5</td>\n",
       "      <td>No</td>\n",
       "      <td>0</td>\n",
       "      <td>30</td>\n",
       "      <td>No</td>\n",
       "      <td>4-Medium</td>\n",
       "      <td>Suburban</td>\n",
       "      <td>Professional</td>\n",
       "      <td>Yes</td>\n",
       "    </tr>\n",
       "    <tr>\n",
       "      <th>2</th>\n",
       "      <td>3000014</td>\n",
       "      <td>No</td>\n",
       "      <td>38.00</td>\n",
       "      <td>8.0</td>\n",
       "      <td>38.0</td>\n",
       "      <td>0.00</td>\n",
       "      <td>0.0</td>\n",
       "      <td>0.0</td>\n",
       "      <td>-2.0</td>\n",
       "      <td>0.0</td>\n",
       "      <td>...</td>\n",
       "      <td>0</td>\n",
       "      <td>6</td>\n",
       "      <td>No</td>\n",
       "      <td>0</td>\n",
       "      <td>Unknown</td>\n",
       "      <td>No</td>\n",
       "      <td>3-Good</td>\n",
       "      <td>Town</td>\n",
       "      <td>Crafts</td>\n",
       "      <td>Yes</td>\n",
       "    </tr>\n",
       "    <tr>\n",
       "      <th>3</th>\n",
       "      <td>3000022</td>\n",
       "      <td>No</td>\n",
       "      <td>82.28</td>\n",
       "      <td>1312.0</td>\n",
       "      <td>75.0</td>\n",
       "      <td>1.24</td>\n",
       "      <td>0.0</td>\n",
       "      <td>0.0</td>\n",
       "      <td>157.0</td>\n",
       "      <td>8.1</td>\n",
       "      <td>...</td>\n",
       "      <td>0</td>\n",
       "      <td>6</td>\n",
       "      <td>No</td>\n",
       "      <td>0</td>\n",
       "      <td>10</td>\n",
       "      <td>No</td>\n",
       "      <td>4-Medium</td>\n",
       "      <td>Other</td>\n",
       "      <td>Other</td>\n",
       "      <td>No</td>\n",
       "    </tr>\n",
       "    <tr>\n",
       "      <th>4</th>\n",
       "      <td>3000026</td>\n",
       "      <td>Yes</td>\n",
       "      <td>17.14</td>\n",
       "      <td>0.0</td>\n",
       "      <td>17.0</td>\n",
       "      <td>0.00</td>\n",
       "      <td>0.0</td>\n",
       "      <td>0.0</td>\n",
       "      <td>0.0</td>\n",
       "      <td>-0.2</td>\n",
       "      <td>...</td>\n",
       "      <td>0</td>\n",
       "      <td>9</td>\n",
       "      <td>No</td>\n",
       "      <td>1</td>\n",
       "      <td>10</td>\n",
       "      <td>No</td>\n",
       "      <td>1-Highest</td>\n",
       "      <td>Other</td>\n",
       "      <td>Professional</td>\n",
       "      <td>Yes</td>\n",
       "    </tr>\n",
       "  </tbody>\n",
       "</table>\n",
       "<p>5 rows × 58 columns</p>\n",
       "</div>"
      ],
      "text/plain": [
       "   CustomerID Churn  MonthlyRevenue  MonthlyMinutes  TotalRecurringCharge  \\\n",
       "0     3000002   Yes           24.00           219.0                  22.0   \n",
       "1     3000010   Yes           16.99            10.0                  17.0   \n",
       "2     3000014    No           38.00             8.0                  38.0   \n",
       "3     3000022    No           82.28          1312.0                  75.0   \n",
       "4     3000026   Yes           17.14             0.0                  17.0   \n",
       "\n",
       "   DirectorAssistedCalls  OverageMinutes  RoamingCalls  PercChangeMinutes  \\\n",
       "0                   0.25             0.0           0.0             -157.0   \n",
       "1                   0.00             0.0           0.0               -4.0   \n",
       "2                   0.00             0.0           0.0               -2.0   \n",
       "3                   1.24             0.0           0.0              157.0   \n",
       "4                   0.00             0.0           0.0                0.0   \n",
       "\n",
       "   PercChangeRevenues  ...  ReferralsMadeBySubscriber  IncomeGroup  \\\n",
       "0               -19.0  ...                          0            4   \n",
       "1                 0.0  ...                          0            5   \n",
       "2                 0.0  ...                          0            6   \n",
       "3                 8.1  ...                          0            6   \n",
       "4                -0.2  ...                          0            9   \n",
       "\n",
       "   OwnsMotorcycle  AdjustmentsToCreditRating  HandsetPrice  \\\n",
       "0              No                          0            30   \n",
       "1              No                          0            30   \n",
       "2              No                          0       Unknown   \n",
       "3              No                          0            10   \n",
       "4              No                          1            10   \n",
       "\n",
       "   MadeCallToRetentionTeam  CreditRating  PrizmCode    Occupation  \\\n",
       "0                      Yes     1-Highest   Suburban  Professional   \n",
       "1                       No      4-Medium   Suburban  Professional   \n",
       "2                       No        3-Good       Town        Crafts   \n",
       "3                       No      4-Medium      Other         Other   \n",
       "4                       No     1-Highest      Other  Professional   \n",
       "\n",
       "   MaritalStatus  \n",
       "0             No  \n",
       "1            Yes  \n",
       "2            Yes  \n",
       "3             No  \n",
       "4            Yes  \n",
       "\n",
       "[5 rows x 58 columns]"
      ]
     },
     "execution_count": 17,
     "metadata": {},
     "output_type": "execute_result"
    }
   ],
   "source": [
    "print(f\"shape is: {train_df.shape}\")\n",
    "train_df.head()"
   ]
  },
  {
   "cell_type": "markdown",
   "metadata": {},
   "source": [
    "## 3. Data analysis"
   ]
  },
  {
   "cell_type": "code",
   "execution_count": 18,
   "metadata": {},
   "outputs": [
    {
     "name": "stdout",
     "output_type": "stream",
     "text": [
      "<class 'pandas.core.frame.DataFrame'>\n",
      "RangeIndex: 51047 entries, 0 to 51046\n",
      "Data columns (total 58 columns):\n",
      " #   Column                     Non-Null Count  Dtype  \n",
      "---  ------                     --------------  -----  \n",
      " 0   CustomerID                 51047 non-null  int64  \n",
      " 1   Churn                      51047 non-null  object \n",
      " 2   MonthlyRevenue             50891 non-null  float64\n",
      " 3   MonthlyMinutes             50891 non-null  float64\n",
      " 4   TotalRecurringCharge       50891 non-null  float64\n",
      " 5   DirectorAssistedCalls      50891 non-null  float64\n",
      " 6   OverageMinutes             50891 non-null  float64\n",
      " 7   RoamingCalls               50891 non-null  float64\n",
      " 8   PercChangeMinutes          50680 non-null  float64\n",
      " 9   PercChangeRevenues         50680 non-null  float64\n",
      " 10  DroppedCalls               51047 non-null  float64\n",
      " 11  BlockedCalls               51047 non-null  float64\n",
      " 12  UnansweredCalls            51047 non-null  float64\n",
      " 13  CustomerCareCalls          51047 non-null  float64\n",
      " 14  ThreewayCalls              51047 non-null  float64\n",
      " 15  ReceivedCalls              51047 non-null  float64\n",
      " 16  OutboundCalls              51047 non-null  float64\n",
      " 17  InboundCalls               51047 non-null  float64\n",
      " 18  PeakCallsInOut             51047 non-null  float64\n",
      " 19  OffPeakCallsInOut          51047 non-null  float64\n",
      " 20  DroppedBlockedCalls        51047 non-null  float64\n",
      " 21  CallForwardingCalls        51047 non-null  float64\n",
      " 22  CallWaitingCalls           51047 non-null  float64\n",
      " 23  MonthsInService            51047 non-null  int64  \n",
      " 24  UniqueSubs                 51047 non-null  int64  \n",
      " 25  ActiveSubs                 51047 non-null  int64  \n",
      " 26  ServiceArea                51023 non-null  object \n",
      " 27  Handsets                   51046 non-null  float64\n",
      " 28  HandsetModels              51046 non-null  float64\n",
      " 29  CurrentEquipmentDays       51046 non-null  float64\n",
      " 30  AgeHH1                     50138 non-null  float64\n",
      " 31  AgeHH2                     50138 non-null  float64\n",
      " 32  ChildrenInHH               51047 non-null  object \n",
      " 33  HandsetRefurbished         51047 non-null  object \n",
      " 34  HandsetWebCapable          51047 non-null  object \n",
      " 35  TruckOwner                 51047 non-null  object \n",
      " 36  RVOwner                    51047 non-null  object \n",
      " 37  Homeownership              51047 non-null  object \n",
      " 38  BuysViaMailOrder           51047 non-null  object \n",
      " 39  RespondsToMailOffers       51047 non-null  object \n",
      " 40  OptOutMailings             51047 non-null  object \n",
      " 41  NonUSTravel                51047 non-null  object \n",
      " 42  OwnsComputer               51047 non-null  object \n",
      " 43  HasCreditCard              51047 non-null  object \n",
      " 44  RetentionCalls             51047 non-null  int64  \n",
      " 45  RetentionOffersAccepted    51047 non-null  int64  \n",
      " 46  NewCellphoneUser           51047 non-null  object \n",
      " 47  NotNewCellphoneUser        51047 non-null  object \n",
      " 48  ReferralsMadeBySubscriber  51047 non-null  int64  \n",
      " 49  IncomeGroup                51047 non-null  int64  \n",
      " 50  OwnsMotorcycle             51047 non-null  object \n",
      " 51  AdjustmentsToCreditRating  51047 non-null  int64  \n",
      " 52  HandsetPrice               51047 non-null  object \n",
      " 53  MadeCallToRetentionTeam    51047 non-null  object \n",
      " 54  CreditRating               51047 non-null  object \n",
      " 55  PrizmCode                  51047 non-null  object \n",
      " 56  Occupation                 51047 non-null  object \n",
      " 57  MaritalStatus              51047 non-null  object \n",
      "dtypes: float64(26), int64(9), object(23)\n",
      "memory usage: 22.6+ MB\n"
     ]
    }
   ],
   "source": [
    "train_df.info()"
   ]
  },
  {
   "cell_type": "code",
   "execution_count": 35,
   "metadata": {},
   "outputs": [
    {
     "data": {
      "image/png": "[encoded data removed]",
      "text/plain": [
       "<Figure size 600x500 with 1 Axes>"
      ]
     },
     "metadata": {},
     "output_type": "display_data"
    }
   ],
   "source": [
    "churn=train_df[train_df['Churn']=='Yes'].shape[0]\n",
    "non_churn= train_df[train_df['Churn']=='No'].shape[0]\n",
    "\n",
    "slices=[churn,non_churn]\n",
    "labels=['Churn','Non Churn']\n",
    "explode=[0.1,0]\n",
    "\n",
    "fig1, ax1 = plt.subplots(figsize=(6, 5))\n",
    "ax1.pie(slices, explode=explode, labels=labels,autopct='%1.1f%%',shadow=True, startangle=270)\n",
    "ax1.axis('equal')  \n",
    "plt.show()"
   ]
  },
  {
   "cell_type": "code",
   "execution_count": 57,
   "metadata": {},
   "outputs": [],
   "source": [
    "tenure_yes = (\n",
    "    train_df.loc[train_df.Churn == 'Yes', 'MonthsInService']\n",
    "             .value_counts()\n",
    "             .rename('Churn')\n",
    ")\n",
    "\n",
    "tenure_no  = (\n",
    "    train_df.loc[train_df.Churn == 'No', 'MonthsInService']\n",
    "             .value_counts()\n",
    "             .rename('NoChurn')\n",
    ")\n",
    "\n",
    "tenure = (\n",
    "    pd.concat([tenure_yes, tenure_no], axis=1)\n",
    "      .fillna(0)                 # replace NaNs with 0\n",
    "      .sort_index()              # tenure on the x-axis in order\n",
    "      .astype(int)\n",
    "      .reset_index()                 # ← converts the index into a column\n",
    "      .rename(columns={'index': 'MonthsInService'})\n",
    ")"
   ]
  },
  {
   "cell_type": "code",
   "execution_count": 45,
   "metadata": {},
   "outputs": [
    {
     "data": {
      "image/png": "[encoded data removed]",
      "text/plain": [
       "<Figure size 1200x600 with 1 Axes>"
      ]
     },
     "metadata": {},
     "output_type": "display_data"
    }
   ],
   "source": [
    "fig, ax = plt.subplots(figsize=(12, 6))\n",
    "tenure.plot(kind='bar', stacked=True, ax=ax)\n",
    "\n",
    "ax.set_xlabel('Months in Service')\n",
    "ax.set_ylabel('Number of Customers')\n",
    "ax.set_title('Churn vs Non-Churn by Exact Tenure')\n",
    "ax.legend(title='Status')\n",
    "\n",
    "plt.tight_layout()\n",
    "plt.show()"
   ]
  },
  {
   "cell_type": "code",
   "execution_count": 70,
   "metadata": {},
   "outputs": [
    {
     "name": "stderr",
     "output_type": "stream",
     "text": [
      "/var/folders/w_/bd5qzspx3kvg9_g_7l7s3z000000gn/T/ipykernel_9330/381780495.py:13: FutureWarning: The default of observed=False is deprecated and will be changed to True in a future version of pandas. Pass observed=False to retain current behavior or observed=True to adopt the future default and silence this warning.\n",
      "  tenure.groupby('TenureBin')[['Churn', 'NoChurn']]\n"
     ]
    },
    {
     "data": {
      "image/png": "[encoded data removed]",
      "text/plain": [
       "<Figure size 800x500 with 1 Axes>"
      ]
     },
     "metadata": {},
     "output_type": "display_data"
    }
   ],
   "source": [
    "bins   = list(range(0, 65, 5))           # [0, 5, 10, …, 60]\n",
    "labels = [f'{i+1}–{i+5}' for i in bins[:-1]]   # ['1–5', '6–10', …, '56–60']\n",
    "\n",
    "tenure['TenureBin'] = pd.cut(\n",
    "    tenure['MonthsInService'],\n",
    "    bins=bins,\n",
    "    labels=labels,\n",
    "    right=True,        # right edge is inclusive, so 10 falls into 1-10\n",
    "    include_lowest=True\n",
    ")\n",
    "\n",
    "bucket_counts = (\n",
    "    tenure.groupby('TenureBin')[['Churn', 'NoChurn']]\n",
    "          .sum()                       # raw counts per bucket\n",
    ")\n",
    "\n",
    "bucket_pct = (\n",
    "    bucket_counts\n",
    "      .div(bucket_counts.sum(axis=1), axis=0)   # divide by bucket total\n",
    "      .mul(100)                                 # convert to %\n",
    "      .round(2)\n",
    ")\n",
    "\n",
    "fig, ax = plt.subplots(figsize=(8, 5))\n",
    "\n",
    "bucket_pct.plot(\n",
    "    kind='bar',\n",
    "    stacked=True,\n",
    "    ax=ax\n",
    ")\n",
    "\n",
    "ax.set_ylabel('Percentage of Customers')\n",
    "ax.set_xlabel('Months in Service (bucketed)')\n",
    "ax.set_title('Churn vs Non-Churn – Percentage by Tenure Bucket')\n",
    "ax.legend(title='Status', loc='upper center', bbox_to_anchor=(0.5, -0.15), ncol=2)\n",
    "\n",
    "plt.tight_layout()\n",
    "plt.show()"
   ]
  },
  {
   "cell_type": "markdown",
   "metadata": {},
   "source": [
    "## Data analysis summary\n",
    "1. Non-churn vs Churn is 71.2% VS 28.8%. The dataset is imbalanced.\n",
    "2. Churn rate peaking right after the first-year mark and steadily falling with tenure"
   ]
  },
  {
   "cell_type": "code",
   "execution_count": null,
   "metadata": {},
   "outputs": [],
   "source": [
    "# 3 Feature engineering"
   ]
  },
  {
   "cell_type": "code",
   "execution_count": null,
   "metadata": {},
   "outputs": [],
   "source": []
  },
  {
   "cell_type": "code",
   "execution_count": null,
   "metadata": {},
   "outputs": [],
   "source": [
    "# 4 Exploratory plots"
   ]
  },
  {
   "cell_type": "code",
   "execution_count": null,
   "metadata": {},
   "outputs": [],
   "source": [
    "# 5 Baseline model"
   ]
  },
  {
   "cell_type": "code",
   "execution_count": null,
   "metadata": {},
   "outputs": [],
   "source": [
    "# 6 Train/test split and report"
   ]
  },
  {
   "cell_type": "code",
   "execution_count": null,
   "metadata": {},
   "outputs": [],
   "source": [
    "# 7 Save clean dataset for later notebooks"
   ]
  },
  {
   "cell_type": "code",
   "execution_count": null,
   "metadata": {},
   "outputs": [],
   "source": [
    "# 8 Save train/test splits for later notebooks"
   ]
  }
 ],
 "metadata": {
  "kernelspec": {
   "display_name": "Python 3 (ipykernel)",
   "language": "python",
   "name": "python3"
  },
  "language_info": {
   "codemirror_mode": {
    "name": "ipython",
    "version": 3
   },
   "file_extension": ".py",
   "mimetype": "text/x-python",
   "name": "python",
   "nbconvert_exporter": "python",
   "pygments_lexer": "ipython3",
   "version": "3.13.5"
  }
 },
 "nbformat": 4,
 "nbformat_minor": 4
}
